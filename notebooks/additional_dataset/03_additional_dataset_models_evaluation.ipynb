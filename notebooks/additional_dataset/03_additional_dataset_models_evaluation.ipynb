{
 "cells": [
  {
   "cell_type": "markdown",
   "id": "edf8a928",
   "metadata": {},
   "source": [
    "# Decision Tree Classifier Experiments on Dermatology Dataset\n",
    "\n",
    "In this section, we will:\n",
    "- Load the prepared train/test splits from the data preparation notebook\n",
    "- Train a Decision Tree Classifier (using information gain/entropy) for each split\n",
    "- Visualize each resulting tree using Graphviz\n",
    "- Evaluate each model on its test set using classification metrics and confusion matrices\n",
    "\n",
    "This workflow enables a comprehensive comparison of model performance across different train/test proportions."
   ]
  },
  {
   "cell_type": "code",
   "execution_count": null,
   "id": "b009cf60",
   "metadata": {},
   "outputs": [],
   "source": [
    "# Imports\n",
    "from sklearn.tree import DecisionTreeClassifier, export_graphviz\n",
    "from sklearn.metrics import classification_report, confusion_matrix\n",
    "import matplotlib.pyplot as plt\n",
    "import seaborn as sns\n",
    "import graphviz"
   ]
  },
  {
   "cell_type": "code",
   "execution_count": null,
   "id": "a24e9c49",
   "metadata": {},
   "outputs": [],
   "source": [
    "# Load prepared data splits\n",
    "%run 03_additional_dataset_preparation.ipynb\n",
    "\n",
    "\n",
    "try:\n",
    "    _ = feature_train_40_60\n",
    "except NameError:\n",
    "    raise RuntimeError(\"Please run the data preparation notebook first to define the train/test split variables in memory.\")\n",
    "\n",
    "splits = [\n",
    "    (\"40/60\", feature_train_40_60, feature_test_40_60, label_train_40_60, label_test_40_60),\n",
    "    (\"60/40\", feature_train_60_40, feature_test_60_40, label_train_60_40, label_test_60_40),\n",
    "    (\"80/20\", feature_train_80_20, feature_test_80_20, label_train_80_20, label_test_80_20),\n",
    "    (\"90/10\", feature_train_90_10, feature_test_90_10, label_train_90_10, label_test_90_10),\n",
    "]"
   ]
  },
  {
   "cell_type": "code",
   "execution_count": null,
   "id": "6283694f",
   "metadata": {},
   "outputs": [],
   "source": [
    "# Train, visualize, and evaluate Decision Tree for each split\n",
    "for ratio, X_train, X_test, y_train, y_test in splits:\n",
    "    print(f\"\\n=== Decision Tree for {ratio} split ===\")\n",
    "    clf = DecisionTreeClassifier(criterion='entropy', random_state=42)\n",
    "    clf.fit(X_train, y_train)\n",
    "    \n",
    "    # Visualize the tree using Graphviz\n",
    "    dot_data = export_graphviz(\n",
    "        clf, out_file=None, \n",
    "        feature_names=X_train.columns,\n",
    "        class_names=[str(cls) for cls in sorted(y_train.unique())],\n",
    "        filled=True, rounded=True, special_characters=True\n",
    "    )\n",
    "    graph = graphviz.Source(dot_data)\n",
    "    display(graph)\n",
    "    \n",
    "    # Predict and evaluate\n",
    "    y_pred = clf.predict(X_test)\n",
    "    print(f\"\\nClassification Report for ({ratio} split):\")\n",
    "    print(classification_report(y_test, y_pred))\n",
    "    print(f\"Crude Confusion matrix for ({ratio} split):\")\n",
    "    print(confusion_matrix(y_test, y_pred))\n",
    "    \n",
    "    # Colorful Confusion Matrix Visualization\n",
    "    fig, ax = plt.subplots(figsize=(6, 5))\n",
    "    cm = confusion_matrix(y_test, y_pred)\n",
    "    labels = [str(cls) for cls in sorted(y_test.unique())]\n",
    "    sns.heatmap(cm, annot=True, fmt='d', cmap='Blues', cbar=True, ax=ax,\n",
    "                xticklabels=labels, yticklabels=labels, linewidths=2, linecolor='black', square=True)\n",
    "    ax.set_xlabel('Predicted label', fontsize=12)\n",
    "    ax.set_ylabel('True label', fontsize=12)\n",
    "    ax.set_title(f'Heatmap Confusion matrix ({ratio} split)', fontsize=14)\n",
    "    cbar = ax.collections[0].colorbar\n",
    "    cbar.set_label('Number of samples', rotation=270, labelpad=15)\n",
    "    plt.show()"
   ]
  }
 ],
 "metadata": {
  "kernelspec": {
   "display_name": ".venv",
   "language": "python",
   "name": "python3"
  },
  "language_info": {
   "codemirror_mode": {
    "name": "ipython",
    "version": 3
   },
   "file_extension": ".py",
   "mimetype": "text/x-python",
   "name": "python",
   "nbconvert_exporter": "python",
   "pygments_lexer": "ipython3",
   "version": "3.12.2"
  }
 },
 "nbformat": 4,
 "nbformat_minor": 5
}
